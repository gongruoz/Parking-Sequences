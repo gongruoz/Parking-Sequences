{
 "cells": [
  {
   "cell_type": "markdown",
   "metadata": {},
   "source": [
    "#### Read Me\n",
    "###### This page could be used to generate parking sequences. \n",
    "###### The last function, 'easyRun()', is the only one that users have to use to run an example. \n",
    "###### easyRun() takes in 2 parameters: the length vector and z. It prints out all possible parking configurations, preference vectors, and prime parking sequences.  \n",
    "###### You should load all the chunks and use this command to run examples: \n",
    "###### length_vector = [1,1,3]\n",
    "###### z = 1\n",
    "###### easyRun(length_vector, z)\n",
    "###### If you want to check which parking configuration corresponds to which preference vectors, you could add True as the third parameter to the function, just like this:\n",
    "###### easyRun(length_vector, z, True)"
   ]
  },
  {
   "cell_type": "code",
   "execution_count": 1,
   "metadata": {
    "scrolled": true
   },
   "outputs": [],
   "source": [
    "# import libraries\n",
    "from itertools import permutations\n",
    "from itertools import product\n",
    "\n",
    "\n",
    "import numpy as np"
   ]
  },
  {
   "cell_type": "code",
   "execution_count": 2,
   "metadata": {
    "scrolled": true
   },
   "outputs": [],
   "source": [
    "# give the number of Parking Sequences of a given length vector\n",
    "def numPS(input_y, z, n):\n",
    "    '''\n",
    "    takes in three parameters: y is the length vector, z is the length of the trailer plus 1, and n is the number of cars\n",
    "    returns the number of parking sequences\n",
    "    >>> numPS([1,1,2],1,3)\n",
    "    16\n",
    "    '''\n",
    "    # base case\n",
    "    if len(input_y)==1:\n",
    "        return z\n",
    "    # recursive step\n",
    "    else:\n",
    "        # remove the last entry\n",
    "        y = input_y.copy()\n",
    "        y.remove(y[-1])\n",
    "        # sum up all entries of the vector\n",
    "        sumAll = 0\n",
    "        for i in range(0,len(y)):\n",
    "            sumAll = sumAll + y[i]\n",
    "        return (z + sumAll + n - len(y)) * numPS(y, z, n)"
   ]
  },
  {
   "cell_type": "code",
   "execution_count": 3,
   "metadata": {
    "scrolled": true
   },
   "outputs": [],
   "source": [
    "def loc2pref(loc):\n",
    "    '''\n",
    "    Given one possible location sequence, output all possible preference vectors related. (Not necessarilly valid)\n",
    "    >>> loc2pref([1,2,3])\n",
    "    [[1, 1, 1], [1, 1, 2], [1, 1, 3], [1, 2, 1], [1, 2, 2], [1, 2, 3]]\n",
    "    '''\n",
    "    # preference sequence\n",
    "    l = [list(range(1,a+1)) for a in loc]\n",
    "    return [list(pref) for pref in product(*l)]\n",
    "\n",
    "def len2pref(len_v,z):\n",
    "    '''\n",
    "    Given a length vector, output all possible preference vectors. (Not necessarily valid)\n",
    "    '''\n",
    "    locs = []\n",
    "    prefs = []\n",
    "    length = np.array(len_v)\n",
    "    for p in permutations(range(0,len(length))):\n",
    "        p = list(p)\n",
    "        ip = np.argsort(p)\n",
    "        loc = np.cumsum(length[p]) - length[p] + z\n",
    "        loc_sorted = loc[list(ip)]\n",
    "        locs.append(list(loc_sorted))\n",
    "        prefs.append(loc2pref(loc_sorted))\n",
    "    return locs, prefs"
   ]
  },
  {
   "cell_type": "code",
   "execution_count": 4,
   "metadata": {
    "scrolled": true
   },
   "outputs": [],
   "source": [
    "# a single simulation\n",
    "def sim(lenV, z, locV, preV):\n",
    "    '''\n",
    "    input: length vector, z, location vector, preference vector\n",
    "    output: a boolean value, true if the preference vector is a parking sequence\n",
    "    '''\n",
    "    num_car = len(lenV)\n",
    "    num_lots = sum(lenV)+z-1\n",
    "    lots = [0] * num_lots\n",
    "    lots[0:z-1] = [1]*(z-1)\n",
    "    for i in range(num_car):\n",
    "        # initialize\n",
    "        pref = preV[i]\n",
    "        expected_loc = locV[i]\n",
    "        le = lenV[i]\n",
    "        actual_loc = 0\n",
    "        while pref+le-1 <= num_lots:\n",
    "#             print('pref:{}'.format(pref))\n",
    "            # probe\n",
    "            isVacant = (sum(lots[pref-1:pref+le-1])==0)\n",
    "            if isVacant:\n",
    "                # park\n",
    "#                 print('park')\n",
    "                lots[pref-1:pref+le-1] = [1]*len(lots[pref-1:pref+le-1])\n",
    "                actual_loc = pref\n",
    "                break\n",
    "            elif (lots[pref-1]==0):\n",
    "                # collision\n",
    "#                 print('collision')\n",
    "                break\n",
    "            else:\n",
    "                # keep going\n",
    "#                 print('going')\n",
    "                pref += 1\n",
    "#         print('expect_loc:{}'.format(expected_loc))\n",
    "#         print('actual_loc:{}'.format(actual_loc))\n",
    "        if actual_loc != expected_loc:\n",
    "            return False\n",
    "    return True\n",
    "\n",
    "# run simulation for all sequences\n",
    "def runSim(lenV, z, locV, preV):\n",
    "    '''\n",
    "    start a new list to keep the valid preference vectors, i.e. parking sequences\n",
    "    returns a PS list containing all valid parking sequences, and a dictionary matching each location to various valid parking sequences\n",
    "    '''\n",
    "    ps_dict = {}\n",
    "    ps_list = []\n",
    "    for i in range(len(locV)):\n",
    "        for j in range(len(preV[i])):\n",
    "            if sim(lenV, z, locV[i], preV[i][j]) == True:\n",
    "                ps_dict.setdefault(str(locV[i]),[]).append(preV[i][j])\n",
    "                ps_list.append(preV[i][j])\n",
    "    return ps_dict,ps_list"
   ]
  },
  {
   "cell_type": "code",
   "execution_count": 5,
   "metadata": {},
   "outputs": [],
   "source": [
    "# determine whether the given p sequence is a prime parking sequences\n",
    "def prime(preV, y, z):\n",
    "    prime = []\n",
    "    y_inc = sorted(y)\n",
    "    n = len(y)\n",
    "    # check each preference vector in prefVec using corollary 2.2\n",
    "    for i in range(len(preV)):\n",
    "        c = sorted(preV[i])\n",
    "        isPrime = True\n",
    "        for j in range(n):\n",
    "            # the first two smallest c should be no bigger than z\n",
    "            if j == 0 and c[j] > z:\n",
    "                isPrime = False\n",
    "                break\n",
    "            elif j == 1 and c[j] > z:\n",
    "                isPrime = False\n",
    "                break\n",
    "            elif j >= 2:\n",
    "                # starting from j = 2, c[j] is c_(3)\n",
    "                bound = z + sum(y_inc[n-j+1:n])\n",
    "                if c[j] > bound:\n",
    "                    isPrime = False\n",
    "                    break\n",
    "        if isPrime:\n",
    "            prime.append(preV[i])\n",
    "    return prime\n"
   ]
  },
  {
   "cell_type": "code",
   "execution_count": 6,
   "metadata": {},
   "outputs": [],
   "source": [
    "def easyRun(y,z,show_dict = False):\n",
    "    '''Give all valid preference sequences given a length vector and trailer z.\n",
    "    >>> easyRun(length_vector, trailer_z[, show_dict=False])\n",
    "    setting show_dict to True will show the correspondence between the location and the preference vectors\n",
    "    '''\n",
    "    possibleLoc, possiblePref = len2pref(y,z)\n",
    "    prefVec_dict, prefVec = runSim(y, z, possibleLoc, possiblePref)\n",
    "    theo_num = numPS(y,z,len(y))\n",
    "    primes = prime(prefVec, y, z)\n",
    "    print(\n",
    "        'Given length vector {} and z = {}'.format(y,z),\n",
    "#         'All {} possible location sequences:'.format(len(possibleLoc)),\n",
    "#         possibleLoc,\n",
    "    #     'All possible preference sequences:',\n",
    "    #     possiblePref,\n",
    "        'Theory suggests that there will be {} valid preference vectors.'.format(theo_num),\n",
    "        'The simulation gives {} valid preference vectors:'.format(len(prefVec)),\n",
    "#         prefVec,\n",
    "        '{} of the preference sequences are prime:'.format(len(primes)),\n",
    "#         primes,\n",
    "        sep = '\\n'\n",
    "    )\n",
    "    if show_dict:\n",
    "        # show the correspondence between the location and the preference vectors\n",
    "        for key, value in prefVec_dict.items():\n",
    "            print('Location: {} \\nPreferences: {}'.format(key,value), end='\\n\\n')\n",
    "    return None"
   ]
  },
  {
   "cell_type": "markdown",
   "metadata": {},
   "source": [
    "## Examples Below"
   ]
  },
  {
   "cell_type": "code",
   "execution_count": 7,
   "metadata": {
    "scrolled": true
   },
   "outputs": [
    {
     "name": "stdout",
     "output_type": "stream",
     "text": [
      "Given length vector [1, 2] and z = 2\n",
      "Theory suggests that there will be 8 valid preference vectors.\n",
      "The simulation gives 8 valid preference vectors:\n",
      "4 of the preference sequences are prime:\n"
     ]
    }
   ],
   "source": [
    "# Example 1\n",
    "# z=2, k=2\n",
    "length_vector = [1,2]\n",
    "trailer_z = 2\n",
    "easyRun(length_vector, trailer_z)\n"
   ]
  },
  {
   "cell_type": "code",
   "execution_count": 8,
   "metadata": {
    "scrolled": true
   },
   "outputs": [
    {
     "name": "stdout",
     "output_type": "stream",
     "text": [
      "Given length vector [1, 1, 2] and z = 2\n",
      "Theory suggests that there will be 50 valid preference vectors.\n",
      "The simulation gives 50 valid preference vectors:\n",
      "24 of the preference sequences are prime:\n"
     ]
    }
   ],
   "source": [
    "# Example 1\n",
    "# z=2, k=2\n",
    "length_vector = [1,1,2]\n",
    "trailer_z = 2\n",
    "easyRun(length_vector, trailer_z)"
   ]
  },
  {
   "cell_type": "code",
   "execution_count": 9,
   "metadata": {},
   "outputs": [
    {
     "name": "stdout",
     "output_type": "stream",
     "text": [
      "Given length vector [1, 1, 1, 2] and z = 2\n",
      "Theory suggests that there will be 432 valid preference vectors.\n",
      "The simulation gives 432 valid preference vectors:\n",
      "196 of the preference sequences are prime:\n"
     ]
    }
   ],
   "source": [
    "# Example 1\n",
    "# z=2, k=2\n",
    "length_vector = [1,1,1,2]\n",
    "trailer_z = 2\n",
    "easyRun(length_vector, trailer_z)"
   ]
  },
  {
   "cell_type": "code",
   "execution_count": 10,
   "metadata": {},
   "outputs": [
    {
     "name": "stdout",
     "output_type": "stream",
     "text": [
      "Given length vector [1, 1, 1, 1, 2] and z = 2\n",
      "Theory suggests that there will be 4802 valid preference vectors.\n",
      "The simulation gives 4802 valid preference vectors:\n",
      "2080 of the preference sequences are prime:\n"
     ]
    }
   ],
   "source": [
    "# Example 1\n",
    "# z=2, k=2\n",
    "length_vector = [1,1,1,1,2]\n",
    "trailer_z = 2\n",
    "easyRun(length_vector, trailer_z)"
   ]
  },
  {
   "cell_type": "code",
   "execution_count": 15,
   "metadata": {
    "scrolled": true
   },
   "outputs": [
    {
     "name": "stdout",
     "output_type": "stream",
     "text": [
      "Given length vector [1, 1, 1, 1, 1, 2] and z = 2\n",
      "Theory suggests that there will be 65536 valid preference vectors.\n",
      "The simulation gives 65536 valid preference vectors:\n",
      "27364 of the preference sequences are prime:\n"
     ]
    }
   ],
   "source": [
    "# Example 2\n",
    "length_vector = [1,1,1,1,1,2]\n",
    "trailer_z = 2\n",
    "easyRun(length_vector, trailer_z)"
   ]
  },
  {
   "cell_type": "code",
   "execution_count": 17,
   "metadata": {},
   "outputs": [
    {
     "name": "stdout",
     "output_type": "stream",
     "text": [
      "Given length vector [1, 1, 1, 1, 1, 3] and z = 2\n",
      "Theory suggests that there will be 65536 valid preference vectors.\n",
      "The simulation gives 65536 valid preference vectors:\n",
      "27364 of the preference sequences are prime:\n"
     ]
    }
   ],
   "source": [
    "# Example 3\n",
    "length_vector = [1,1,1,1,1,3]\n",
    "trailer_z = 2\n",
    "easyRun(length_vector, trailer_z)"
   ]
  },
  {
   "cell_type": "code",
   "execution_count": null,
   "metadata": {},
   "outputs": [],
   "source": []
  },
  {
   "cell_type": "code",
   "execution_count": null,
   "metadata": {},
   "outputs": [],
   "source": []
  }
 ],
 "metadata": {
  "kernelspec": {
   "display_name": "Python 3",
   "language": "python",
   "name": "python3"
  },
  "language_info": {
   "codemirror_mode": {
    "name": "ipython",
    "version": 3
   },
   "file_extension": ".py",
   "mimetype": "text/x-python",
   "name": "python",
   "nbconvert_exporter": "python",
   "pygments_lexer": "ipython3",
   "version": "3.7.1"
  }
 },
 "nbformat": 4,
 "nbformat_minor": 4
}
